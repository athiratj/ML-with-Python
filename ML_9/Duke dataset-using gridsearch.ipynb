{
 "cells": [
  {
   "cell_type": "markdown",
   "metadata": {},
   "source": [
    "We have a dataset which shows the purchase details of Duke(Bike). Our aim of this\n",
    "project is to predict if the customer will purchase a Duke or not.Based on the given data (using SVM)"
   ]
  },
  {
   "cell_type": "code",
   "execution_count": 1,
   "metadata": {
    "collapsed": true
   },
   "outputs": [],
   "source": [
    "import pandas as pd\n",
    "import numpy as np"
   ]
  },
  {
   "cell_type": "code",
   "execution_count": 2,
   "metadata": {},
   "outputs": [
    {
     "data": {
      "text/html": [
       "<div>\n",
       "<style>\n",
       "    .dataframe thead tr:only-child th {\n",
       "        text-align: right;\n",
       "    }\n",
       "\n",
       "    .dataframe thead th {\n",
       "        text-align: left;\n",
       "    }\n",
       "\n",
       "    .dataframe tbody tr th {\n",
       "        vertical-align: top;\n",
       "    }\n",
       "</style>\n",
       "<table border=\"1\" class=\"dataframe\">\n",
       "  <thead>\n",
       "    <tr style=\"text-align: right;\">\n",
       "      <th></th>\n",
       "      <th>Gender</th>\n",
       "      <th>Age</th>\n",
       "      <th>Salary</th>\n",
       "      <th>Purchase Duke</th>\n",
       "    </tr>\n",
       "  </thead>\n",
       "  <tbody>\n",
       "    <tr>\n",
       "      <th>0</th>\n",
       "      <td>Male</td>\n",
       "      <td>19</td>\n",
       "      <td>19000</td>\n",
       "      <td>0</td>\n",
       "    </tr>\n",
       "    <tr>\n",
       "      <th>1</th>\n",
       "      <td>Male</td>\n",
       "      <td>35</td>\n",
       "      <td>20000</td>\n",
       "      <td>0</td>\n",
       "    </tr>\n",
       "    <tr>\n",
       "      <th>2</th>\n",
       "      <td>Female</td>\n",
       "      <td>26</td>\n",
       "      <td>43000</td>\n",
       "      <td>0</td>\n",
       "    </tr>\n",
       "    <tr>\n",
       "      <th>3</th>\n",
       "      <td>Female</td>\n",
       "      <td>27</td>\n",
       "      <td>57000</td>\n",
       "      <td>0</td>\n",
       "    </tr>\n",
       "    <tr>\n",
       "      <th>4</th>\n",
       "      <td>Male</td>\n",
       "      <td>19</td>\n",
       "      <td>76000</td>\n",
       "      <td>0</td>\n",
       "    </tr>\n",
       "  </tbody>\n",
       "</table>\n",
       "</div>"
      ],
      "text/plain": [
       "   Gender  Age  Salary  Purchase Duke\n",
       "0    Male   19   19000              0\n",
       "1    Male   35   20000              0\n",
       "2  Female   26   43000              0\n",
       "3  Female   27   57000              0\n",
       "4    Male   19   76000              0"
      ]
     },
     "execution_count": 2,
     "metadata": {},
     "output_type": "execute_result"
    }
   ],
   "source": [
    "df = pd.read_csv('bike.csv')\n",
    "df.head()"
   ]
  },
  {
   "cell_type": "code",
   "execution_count": 3,
   "metadata": {
    "collapsed": true
   },
   "outputs": [],
   "source": [
    "x=df.drop([\"Purchase Duke\"],axis = 1)\n",
    "y = df['Purchase Duke']"
   ]
  },
  {
   "cell_type": "code",
   "execution_count": 4,
   "metadata": {},
   "outputs": [
    {
     "data": {
      "text/plain": [
       "(400, 3)"
      ]
     },
     "execution_count": 4,
     "metadata": {},
     "output_type": "execute_result"
    }
   ],
   "source": [
    "x.shape"
   ]
  },
  {
   "cell_type": "code",
   "execution_count": 5,
   "metadata": {},
   "outputs": [
    {
     "data": {
      "text/plain": [
       "(400,)"
      ]
     },
     "execution_count": 5,
     "metadata": {},
     "output_type": "execute_result"
    }
   ],
   "source": [
    "y.shape"
   ]
  },
  {
   "cell_type": "code",
   "execution_count": 6,
   "metadata": {
    "collapsed": true
   },
   "outputs": [],
   "source": [
    "from sklearn.preprocessing import LabelEncoder\n",
    "label_encoder = LabelEncoder()\n",
    "x[\"Gender\"] = label_encoder.fit_transform(x[\"Gender\"])"
   ]
  },
  {
   "cell_type": "code",
   "execution_count": 7,
   "metadata": {},
   "outputs": [
    {
     "data": {
      "text/plain": [
       "(400, 3)"
      ]
     },
     "execution_count": 7,
     "metadata": {},
     "output_type": "execute_result"
    }
   ],
   "source": [
    "x.shape"
   ]
  },
  {
   "cell_type": "code",
   "execution_count": 8,
   "metadata": {},
   "outputs": [
    {
     "data": {
      "text/html": [
       "<div>\n",
       "<style>\n",
       "    .dataframe thead tr:only-child th {\n",
       "        text-align: right;\n",
       "    }\n",
       "\n",
       "    .dataframe thead th {\n",
       "        text-align: left;\n",
       "    }\n",
       "\n",
       "    .dataframe tbody tr th {\n",
       "        vertical-align: top;\n",
       "    }\n",
       "</style>\n",
       "<table border=\"1\" class=\"dataframe\">\n",
       "  <thead>\n",
       "    <tr style=\"text-align: right;\">\n",
       "      <th></th>\n",
       "      <th>Gender</th>\n",
       "      <th>Age</th>\n",
       "      <th>Salary</th>\n",
       "    </tr>\n",
       "  </thead>\n",
       "  <tbody>\n",
       "    <tr>\n",
       "      <th>0</th>\n",
       "      <td>1</td>\n",
       "      <td>19</td>\n",
       "      <td>19000</td>\n",
       "    </tr>\n",
       "    <tr>\n",
       "      <th>1</th>\n",
       "      <td>1</td>\n",
       "      <td>35</td>\n",
       "      <td>20000</td>\n",
       "    </tr>\n",
       "    <tr>\n",
       "      <th>2</th>\n",
       "      <td>0</td>\n",
       "      <td>26</td>\n",
       "      <td>43000</td>\n",
       "    </tr>\n",
       "    <tr>\n",
       "      <th>3</th>\n",
       "      <td>0</td>\n",
       "      <td>27</td>\n",
       "      <td>57000</td>\n",
       "    </tr>\n",
       "    <tr>\n",
       "      <th>4</th>\n",
       "      <td>1</td>\n",
       "      <td>19</td>\n",
       "      <td>76000</td>\n",
       "    </tr>\n",
       "    <tr>\n",
       "      <th>5</th>\n",
       "      <td>1</td>\n",
       "      <td>27</td>\n",
       "      <td>58000</td>\n",
       "    </tr>\n",
       "    <tr>\n",
       "      <th>6</th>\n",
       "      <td>0</td>\n",
       "      <td>27</td>\n",
       "      <td>84000</td>\n",
       "    </tr>\n",
       "    <tr>\n",
       "      <th>7</th>\n",
       "      <td>0</td>\n",
       "      <td>32</td>\n",
       "      <td>150000</td>\n",
       "    </tr>\n",
       "    <tr>\n",
       "      <th>8</th>\n",
       "      <td>1</td>\n",
       "      <td>25</td>\n",
       "      <td>33000</td>\n",
       "    </tr>\n",
       "    <tr>\n",
       "      <th>9</th>\n",
       "      <td>0</td>\n",
       "      <td>35</td>\n",
       "      <td>65000</td>\n",
       "    </tr>\n",
       "    <tr>\n",
       "      <th>10</th>\n",
       "      <td>0</td>\n",
       "      <td>26</td>\n",
       "      <td>80000</td>\n",
       "    </tr>\n",
       "    <tr>\n",
       "      <th>11</th>\n",
       "      <td>0</td>\n",
       "      <td>26</td>\n",
       "      <td>52000</td>\n",
       "    </tr>\n",
       "    <tr>\n",
       "      <th>12</th>\n",
       "      <td>1</td>\n",
       "      <td>20</td>\n",
       "      <td>86000</td>\n",
       "    </tr>\n",
       "    <tr>\n",
       "      <th>13</th>\n",
       "      <td>1</td>\n",
       "      <td>32</td>\n",
       "      <td>18000</td>\n",
       "    </tr>\n",
       "    <tr>\n",
       "      <th>14</th>\n",
       "      <td>1</td>\n",
       "      <td>18</td>\n",
       "      <td>82000</td>\n",
       "    </tr>\n",
       "    <tr>\n",
       "      <th>15</th>\n",
       "      <td>1</td>\n",
       "      <td>29</td>\n",
       "      <td>80000</td>\n",
       "    </tr>\n",
       "    <tr>\n",
       "      <th>16</th>\n",
       "      <td>1</td>\n",
       "      <td>47</td>\n",
       "      <td>25000</td>\n",
       "    </tr>\n",
       "    <tr>\n",
       "      <th>17</th>\n",
       "      <td>1</td>\n",
       "      <td>45</td>\n",
       "      <td>26000</td>\n",
       "    </tr>\n",
       "    <tr>\n",
       "      <th>18</th>\n",
       "      <td>1</td>\n",
       "      <td>46</td>\n",
       "      <td>28000</td>\n",
       "    </tr>\n",
       "    <tr>\n",
       "      <th>19</th>\n",
       "      <td>0</td>\n",
       "      <td>48</td>\n",
       "      <td>29000</td>\n",
       "    </tr>\n",
       "    <tr>\n",
       "      <th>20</th>\n",
       "      <td>1</td>\n",
       "      <td>45</td>\n",
       "      <td>22000</td>\n",
       "    </tr>\n",
       "    <tr>\n",
       "      <th>21</th>\n",
       "      <td>0</td>\n",
       "      <td>47</td>\n",
       "      <td>49000</td>\n",
       "    </tr>\n",
       "    <tr>\n",
       "      <th>22</th>\n",
       "      <td>1</td>\n",
       "      <td>48</td>\n",
       "      <td>41000</td>\n",
       "    </tr>\n",
       "    <tr>\n",
       "      <th>23</th>\n",
       "      <td>0</td>\n",
       "      <td>45</td>\n",
       "      <td>22000</td>\n",
       "    </tr>\n",
       "    <tr>\n",
       "      <th>24</th>\n",
       "      <td>1</td>\n",
       "      <td>46</td>\n",
       "      <td>23000</td>\n",
       "    </tr>\n",
       "    <tr>\n",
       "      <th>25</th>\n",
       "      <td>1</td>\n",
       "      <td>47</td>\n",
       "      <td>20000</td>\n",
       "    </tr>\n",
       "    <tr>\n",
       "      <th>26</th>\n",
       "      <td>1</td>\n",
       "      <td>49</td>\n",
       "      <td>28000</td>\n",
       "    </tr>\n",
       "    <tr>\n",
       "      <th>27</th>\n",
       "      <td>0</td>\n",
       "      <td>47</td>\n",
       "      <td>30000</td>\n",
       "    </tr>\n",
       "    <tr>\n",
       "      <th>28</th>\n",
       "      <td>1</td>\n",
       "      <td>29</td>\n",
       "      <td>43000</td>\n",
       "    </tr>\n",
       "    <tr>\n",
       "      <th>29</th>\n",
       "      <td>1</td>\n",
       "      <td>31</td>\n",
       "      <td>18000</td>\n",
       "    </tr>\n",
       "    <tr>\n",
       "      <th>...</th>\n",
       "      <td>...</td>\n",
       "      <td>...</td>\n",
       "      <td>...</td>\n",
       "    </tr>\n",
       "    <tr>\n",
       "      <th>370</th>\n",
       "      <td>0</td>\n",
       "      <td>60</td>\n",
       "      <td>46000</td>\n",
       "    </tr>\n",
       "    <tr>\n",
       "      <th>371</th>\n",
       "      <td>1</td>\n",
       "      <td>60</td>\n",
       "      <td>83000</td>\n",
       "    </tr>\n",
       "    <tr>\n",
       "      <th>372</th>\n",
       "      <td>0</td>\n",
       "      <td>39</td>\n",
       "      <td>73000</td>\n",
       "    </tr>\n",
       "    <tr>\n",
       "      <th>373</th>\n",
       "      <td>1</td>\n",
       "      <td>59</td>\n",
       "      <td>130000</td>\n",
       "    </tr>\n",
       "    <tr>\n",
       "      <th>374</th>\n",
       "      <td>0</td>\n",
       "      <td>37</td>\n",
       "      <td>80000</td>\n",
       "    </tr>\n",
       "    <tr>\n",
       "      <th>375</th>\n",
       "      <td>0</td>\n",
       "      <td>46</td>\n",
       "      <td>32000</td>\n",
       "    </tr>\n",
       "    <tr>\n",
       "      <th>376</th>\n",
       "      <td>0</td>\n",
       "      <td>46</td>\n",
       "      <td>74000</td>\n",
       "    </tr>\n",
       "    <tr>\n",
       "      <th>377</th>\n",
       "      <td>0</td>\n",
       "      <td>42</td>\n",
       "      <td>53000</td>\n",
       "    </tr>\n",
       "    <tr>\n",
       "      <th>378</th>\n",
       "      <td>1</td>\n",
       "      <td>41</td>\n",
       "      <td>87000</td>\n",
       "    </tr>\n",
       "    <tr>\n",
       "      <th>379</th>\n",
       "      <td>0</td>\n",
       "      <td>58</td>\n",
       "      <td>23000</td>\n",
       "    </tr>\n",
       "    <tr>\n",
       "      <th>380</th>\n",
       "      <td>1</td>\n",
       "      <td>42</td>\n",
       "      <td>64000</td>\n",
       "    </tr>\n",
       "    <tr>\n",
       "      <th>381</th>\n",
       "      <td>1</td>\n",
       "      <td>48</td>\n",
       "      <td>33000</td>\n",
       "    </tr>\n",
       "    <tr>\n",
       "      <th>382</th>\n",
       "      <td>0</td>\n",
       "      <td>44</td>\n",
       "      <td>139000</td>\n",
       "    </tr>\n",
       "    <tr>\n",
       "      <th>383</th>\n",
       "      <td>1</td>\n",
       "      <td>49</td>\n",
       "      <td>28000</td>\n",
       "    </tr>\n",
       "    <tr>\n",
       "      <th>384</th>\n",
       "      <td>0</td>\n",
       "      <td>57</td>\n",
       "      <td>33000</td>\n",
       "    </tr>\n",
       "    <tr>\n",
       "      <th>385</th>\n",
       "      <td>1</td>\n",
       "      <td>56</td>\n",
       "      <td>60000</td>\n",
       "    </tr>\n",
       "    <tr>\n",
       "      <th>386</th>\n",
       "      <td>0</td>\n",
       "      <td>49</td>\n",
       "      <td>39000</td>\n",
       "    </tr>\n",
       "    <tr>\n",
       "      <th>387</th>\n",
       "      <td>1</td>\n",
       "      <td>39</td>\n",
       "      <td>71000</td>\n",
       "    </tr>\n",
       "    <tr>\n",
       "      <th>388</th>\n",
       "      <td>1</td>\n",
       "      <td>47</td>\n",
       "      <td>34000</td>\n",
       "    </tr>\n",
       "    <tr>\n",
       "      <th>389</th>\n",
       "      <td>0</td>\n",
       "      <td>48</td>\n",
       "      <td>35000</td>\n",
       "    </tr>\n",
       "    <tr>\n",
       "      <th>390</th>\n",
       "      <td>1</td>\n",
       "      <td>48</td>\n",
       "      <td>33000</td>\n",
       "    </tr>\n",
       "    <tr>\n",
       "      <th>391</th>\n",
       "      <td>1</td>\n",
       "      <td>47</td>\n",
       "      <td>23000</td>\n",
       "    </tr>\n",
       "    <tr>\n",
       "      <th>392</th>\n",
       "      <td>0</td>\n",
       "      <td>45</td>\n",
       "      <td>45000</td>\n",
       "    </tr>\n",
       "    <tr>\n",
       "      <th>393</th>\n",
       "      <td>1</td>\n",
       "      <td>60</td>\n",
       "      <td>42000</td>\n",
       "    </tr>\n",
       "    <tr>\n",
       "      <th>394</th>\n",
       "      <td>0</td>\n",
       "      <td>39</td>\n",
       "      <td>59000</td>\n",
       "    </tr>\n",
       "    <tr>\n",
       "      <th>395</th>\n",
       "      <td>0</td>\n",
       "      <td>46</td>\n",
       "      <td>41000</td>\n",
       "    </tr>\n",
       "    <tr>\n",
       "      <th>396</th>\n",
       "      <td>1</td>\n",
       "      <td>51</td>\n",
       "      <td>23000</td>\n",
       "    </tr>\n",
       "    <tr>\n",
       "      <th>397</th>\n",
       "      <td>0</td>\n",
       "      <td>50</td>\n",
       "      <td>20000</td>\n",
       "    </tr>\n",
       "    <tr>\n",
       "      <th>398</th>\n",
       "      <td>1</td>\n",
       "      <td>36</td>\n",
       "      <td>33000</td>\n",
       "    </tr>\n",
       "    <tr>\n",
       "      <th>399</th>\n",
       "      <td>0</td>\n",
       "      <td>49</td>\n",
       "      <td>36000</td>\n",
       "    </tr>\n",
       "  </tbody>\n",
       "</table>\n",
       "<p>400 rows × 3 columns</p>\n",
       "</div>"
      ],
      "text/plain": [
       "     Gender  Age  Salary\n",
       "0         1   19   19000\n",
       "1         1   35   20000\n",
       "2         0   26   43000\n",
       "3         0   27   57000\n",
       "4         1   19   76000\n",
       "5         1   27   58000\n",
       "6         0   27   84000\n",
       "7         0   32  150000\n",
       "8         1   25   33000\n",
       "9         0   35   65000\n",
       "10        0   26   80000\n",
       "11        0   26   52000\n",
       "12        1   20   86000\n",
       "13        1   32   18000\n",
       "14        1   18   82000\n",
       "15        1   29   80000\n",
       "16        1   47   25000\n",
       "17        1   45   26000\n",
       "18        1   46   28000\n",
       "19        0   48   29000\n",
       "20        1   45   22000\n",
       "21        0   47   49000\n",
       "22        1   48   41000\n",
       "23        0   45   22000\n",
       "24        1   46   23000\n",
       "25        1   47   20000\n",
       "26        1   49   28000\n",
       "27        0   47   30000\n",
       "28        1   29   43000\n",
       "29        1   31   18000\n",
       "..      ...  ...     ...\n",
       "370       0   60   46000\n",
       "371       1   60   83000\n",
       "372       0   39   73000\n",
       "373       1   59  130000\n",
       "374       0   37   80000\n",
       "375       0   46   32000\n",
       "376       0   46   74000\n",
       "377       0   42   53000\n",
       "378       1   41   87000\n",
       "379       0   58   23000\n",
       "380       1   42   64000\n",
       "381       1   48   33000\n",
       "382       0   44  139000\n",
       "383       1   49   28000\n",
       "384       0   57   33000\n",
       "385       1   56   60000\n",
       "386       0   49   39000\n",
       "387       1   39   71000\n",
       "388       1   47   34000\n",
       "389       0   48   35000\n",
       "390       1   48   33000\n",
       "391       1   47   23000\n",
       "392       0   45   45000\n",
       "393       1   60   42000\n",
       "394       0   39   59000\n",
       "395       0   46   41000\n",
       "396       1   51   23000\n",
       "397       0   50   20000\n",
       "398       1   36   33000\n",
       "399       0   49   36000\n",
       "\n",
       "[400 rows x 3 columns]"
      ]
     },
     "execution_count": 8,
     "metadata": {},
     "output_type": "execute_result"
    }
   ],
   "source": [
    "x"
   ]
  },
  {
   "cell_type": "code",
   "execution_count": 9,
   "metadata": {
    "collapsed": true
   },
   "outputs": [],
   "source": [
    "from sklearn.model_selection import train_test_split\n",
    "x_train,x_test,y_train,y_test = train_test_split(x,y,test_size=.20, random_state=42)"
   ]
  },
  {
   "cell_type": "code",
   "execution_count": 10,
   "metadata": {},
   "outputs": [
    {
     "name": "stdout",
     "output_type": "stream",
     "text": [
      "     Gender  Age  Salary\n",
      "3         0   27   57000\n",
      "18        1   46   28000\n",
      "202       0   39  134000\n",
      "250       0   44   39000\n",
      "274       0   57   26000\n",
      "63        1   32  120000\n",
      "248       1   41   52000\n",
      "301       1   48   74000\n",
      "108       1   26   86000\n",
      "90        1   22   81000\n",
      "233       1   49   86000\n",
      "335       0   36   54000\n",
      "118       1   40   59000\n",
      "220       0   41   80000\n",
      "180       1   26   16000\n",
      "314       0   39   79000\n",
      "373       1   59  130000\n",
      "380       1   42   64000\n",
      "239       0   53  143000\n",
      "75        1   34  112000\n",
      "247       0   57  122000\n",
      "110       0   39   71000\n",
      "16        1   47   25000\n",
      "66        1   24   19000\n",
      "153       0   36   50000\n",
      "7         0   32  150000\n",
      "19        0   48   29000\n",
      "137       1   30  107000\n",
      "355       1   60   34000\n",
      "349       1   38   61000\n",
      "..      ...  ...     ...\n",
      "344       1   47  105000\n",
      "235       1   46   79000\n",
      "252       0   48  134000\n",
      "21        0   47   49000\n",
      "313       0   49  141000\n",
      "160       1   32  100000\n",
      "276       1   38   71000\n",
      "191       0   19   26000\n",
      "293       1   37   77000\n",
      "343       0   47   51000\n",
      "257       1   40   57000\n",
      "308       1   36  125000\n",
      "149       1   20   74000\n",
      "130       1   31   58000\n",
      "151       1   41   45000\n",
      "359       1   42   54000\n",
      "99        0   28   37000\n",
      "372       0   39   73000\n",
      "87        0   28   85000\n",
      "330       1   38   51000\n",
      "214       1   47   43000\n",
      "121       1   37   72000\n",
      "399       0   49   36000\n",
      "20        1   45   22000\n",
      "188       1   35   72000\n",
      "71        0   24   27000\n",
      "106       0   26   35000\n",
      "270       0   43  133000\n",
      "348       1   39   77000\n",
      "102       0   32   86000\n",
      "\n",
      "[320 rows x 3 columns]\n"
     ]
    }
   ],
   "source": [
    "print(x_train)"
   ]
  },
  {
   "cell_type": "code",
   "execution_count": 11,
   "metadata": {},
   "outputs": [
    {
     "name": "stdout",
     "output_type": "stream",
     "text": [
      "3      0\n",
      "18     1\n",
      "202    1\n",
      "250    0\n",
      "274    1\n",
      "63     1\n",
      "248    0\n",
      "301    1\n",
      "108    0\n",
      "90     0\n",
      "233    1\n",
      "335    0\n",
      "118    0\n",
      "220    0\n",
      "180    0\n",
      "314    0\n",
      "373    1\n",
      "380    0\n",
      "239    1\n",
      "75     1\n",
      "247    1\n",
      "110    0\n",
      "16     1\n",
      "66     0\n",
      "153    0\n",
      "7      1\n",
      "19     1\n",
      "137    1\n",
      "355    1\n",
      "349    0\n",
      "      ..\n",
      "344    1\n",
      "235    1\n",
      "252    1\n",
      "21     1\n",
      "313    1\n",
      "160    1\n",
      "276    0\n",
      "191    0\n",
      "293    0\n",
      "343    1\n",
      "257    0\n",
      "308    1\n",
      "149    0\n",
      "130    0\n",
      "151    0\n",
      "359    0\n",
      "99     0\n",
      "372    0\n",
      "87     0\n",
      "330    0\n",
      "214    0\n",
      "121    0\n",
      "399    1\n",
      "20     1\n",
      "188    0\n",
      "71     0\n",
      "106    0\n",
      "270    0\n",
      "348    0\n",
      "102    0\n",
      "Name: Purchase Duke, Length: 320, dtype: int64\n"
     ]
    }
   ],
   "source": [
    "print(y_train)"
   ]
  },
  {
   "cell_type": "code",
   "execution_count": 12,
   "metadata": {},
   "outputs": [
    {
     "name": "stdout",
     "output_type": "stream",
     "text": [
      "(320,)\n"
     ]
    }
   ],
   "source": [
    "print(y_train.shape)"
   ]
  },
  {
   "cell_type": "code",
   "execution_count": 44,
   "metadata": {
    "collapsed": true
   },
   "outputs": [],
   "source": [
    "from sklearn.svm import SVC\n",
    "#svcclassifier = SVC()\n",
    "svcclassifier = SVC(kernel = 'linear', random_state = 1)\n",
    "svcclassifier.fit(x_train, y_train)\n",
    "y_pred=svcclassifier.predict(x_test)\n"
   ]
  },
  {
   "cell_type": "code",
   "execution_count": 45,
   "metadata": {},
   "outputs": [
    {
     "name": "stdout",
     "output_type": "stream",
     "text": [
      "0.85\n",
      "[[48  4]\n",
      " [ 8 20]]\n"
     ]
    }
   ],
   "source": [
    "from sklearn import metrics\n",
    "print(metrics.accuracy_score(y_test,y_pred))\n",
    "print(metrics.confusion_matrix(y_test,y_pred))"
   ]
  },
  {
   "cell_type": "code",
   "execution_count": 46,
   "metadata": {},
   "outputs": [
    {
     "name": "stdout",
     "output_type": "stream",
     "text": [
      "[[48  4]\n",
      " [ 8 20]]\n"
     ]
    }
   ],
   "source": [
    "conf_matrix=metrics.confusion_matrix(y_test,y_pred)\n",
    "print(conf_matrix)\n",
    "TP=conf_matrix[0,0]\n",
    "TN=conf_matrix[1,1]\n",
    "FN=conf_matrix[0,1]\n",
    "FP=conf_matrix[1,0]"
   ]
  },
  {
   "cell_type": "code",
   "execution_count": 47,
   "metadata": {
    "collapsed": true
   },
   "outputs": [],
   "source": [
    "sensitivity=TP/(TP+FN)\n",
    "specificity=TN/(TN+FP)\n",
    "precision=TP/(TP+FP)\n",
    "pred_val=TN/(TN+FN)\n",
    "accracy=(TP+FN)/(TP+TN+FP+FN)"
   ]
  },
  {
   "cell_type": "code",
   "execution_count": 48,
   "metadata": {},
   "outputs": [
    {
     "name": "stdout",
     "output_type": "stream",
     "text": [
      "SENSITIVITY : 0.923077\n",
      "SPECIFICITY : 0.714286\n",
      "PRECISION : 0.857143\n",
      "PREDICTE VALUE : 0.833333\n",
      "ACCURCY : 0.650000\n",
      "\n",
      "\n",
      "precision 0.8571428571428571\n",
      "PRECISION SCORE : 0.8333333333333334\n",
      "RECALL SCORE : 0.7142857142857143\n",
      "F1 SCORE : 0.7692307692307692\n"
     ]
    }
   ],
   "source": [
    "print(\"SENSITIVITY : %f\"%(sensitivity))\n",
    "print(\"SPECIFICITY : %f\"%(specificity))\n",
    "print(\"PRECISION : %f\"%(precision))\n",
    "print(\"PREDICTE VALUE : %f\"%(pred_val))\n",
    "print(\"ACCURCY : %f\"%(accracy))\n",
    "print(\"\\n\\nprecision\",precision)\n",
    "print(\"PRECISION SCORE :\",metrics.precision_score(y_test, y_pred))\n",
    "print(\"RECALL SCORE :\", metrics.recall_score(y_test, y_pred))\n",
    "print(\"F1 SCORE :\",metrics.f1_score(y_test, y_pred))"
   ]
  },
  {
   "cell_type": "code",
   "execution_count": 49,
   "metadata": {},
   "outputs": [],
   "source": [
    "from sklearn.model_selection import GridSearchCV"
   ]
  },
  {
   "cell_type": "code",
   "execution_count": 50,
   "metadata": {
    "collapsed": true
   },
   "outputs": [],
   "source": [
    "param_grid={'C':[0.1,1,10,50,100,500],'gamma':[1,0.5,0.1,0.01,0.001]}"
   ]
  },
  {
   "cell_type": "code",
   "execution_count": 51,
   "metadata": {},
   "outputs": [],
   "source": [
    "grid= GridSearchCV(SVC(),param_grid, verbose=3, n_jobs=-1)"
   ]
  },
  {
   "cell_type": "code",
   "execution_count": 52,
   "metadata": {},
   "outputs": [
    {
     "name": "stdout",
     "output_type": "stream",
     "text": [
      "Fitting 3 folds for each of 30 candidates, totalling 90 fits\n",
      "[CV] C=0.1, gamma=1 ..................................................\n",
      "[CV] C=0.1, gamma=1 ..................................................\n",
      "[CV] C=0.1, gamma=0.5 ................................................\n",
      "[CV] C=0.1, gamma=1 ..................................................\n",
      "[CV] ......... C=0.1, gamma=1, score=0.6388888888888888, total=   0.0s\n",
      "[CV] ......... C=0.1, gamma=1, score=0.6415094339622641, total=   0.0s\n",
      "[CV] ....... C=0.1, gamma=0.5, score=0.6388888888888888, total=   0.0s\n",
      "[CV] ......... C=0.1, gamma=1, score=0.6415094339622641, total=   0.0s\n",
      "[CV] C=0.1, gamma=0.5 ................................................\n",
      "[CV] C=0.1, gamma=0.1 ................................................\n",
      "[CV] C=0.1, gamma=0.1 ................................................\n",
      "[CV] C=0.1, gamma=0.1 ................................................\n",
      "[CV] ....... C=0.1, gamma=0.5, score=0.6415094339622641, total=   0.0s\n",
      "[CV] C=0.1, gamma=0.5 ................................................\n",
      "[CV] ....... C=0.1, gamma=0.1, score=0.6415094339622641, total=   0.0s\n",
      "[CV] ....... C=0.1, gamma=0.1, score=0.6415094339622641, total=   0.0s\n",
      "[CV] C=0.1, gamma=0.001 ..............................................\n",
      "[CV] C=0.1, gamma=0.01 ...............................................\n",
      "[CV] ....... C=0.1, gamma=0.5, score=0.6415094339622641, total=   0.0s\n",
      "[CV] C=1, gamma=0.5 ..................................................\n",
      "[CV] ...... C=0.1, gamma=0.01, score=0.6388888888888888, total=   0.0s\n",
      "[CV] C=0.1, gamma=0.01 ...............................................\n",
      "[CV] ....... C=0.1, gamma=0.1, score=0.6388888888888888, total=   0.0s\n",
      "[CV] C=1, gamma=0.01 .................................................\n",
      "[CV] ......... C=1, gamma=0.5, score=0.6415094339622641, total=   0.0s\n",
      "[CV] ..... C=0.1, gamma=0.001, score=0.6415094339622641, total=   0.0s\n",
      "[CV] C=1, gamma=1 ....................................................\n",
      "[CV] ...... C=0.1, gamma=0.01, score=0.6415094339622641, total=   0.0s\n",
      "[CV] C=1, gamma=0.1 ..................................................\n",
      "[CV] C=0.1, gamma=0.01 ...............................................\n",
      "[CV] ........... C=1, gamma=1, score=0.6388888888888888, total=   0.0s\n",
      "[CV] ........ C=1, gamma=0.01, score=0.7075471698113207, total=   0.0s\n",
      "[CV] ...... C=0.1, gamma=0.01, score=0.6415094339622641, total=   0.0s\n",
      "[CV] C=1, gamma=1 ....................................................\n",
      "[CV] C=0.1, gamma=0.001 ..............................................\n",
      "[CV] ......... C=1, gamma=0.1, score=0.6851851851851852, total=   0.0s\n",
      "[CV] C=1, gamma=0.001 ................................................\n",
      "[CV] ..... C=0.1, gamma=0.001, score=0.6388888888888888, total=   0.0s\n",
      "[CV] ....... C=1, gamma=0.001, score=0.7037037037037037, total=   0.0s\n",
      "[CV] C=1, gamma=0.1 ..................................................\n",
      "[CV] C=1, gamma=0.001 ................................................\n",
      "[CV] C=0.1, gamma=0.001 ..............................................\n",
      "[CV] ............ C=1, gamma=1, score=0.660377358490566, total=   0.0s\n",
      "[CV] C=1, gamma=1 ....................................................\n",
      "[CV] ..... C=0.1, gamma=0.001, score=0.6415094339622641, total=   0.0s\n",
      "[CV] ......... C=1, gamma=0.1, score=0.6698113207547169, total=   0.0s\n",
      "[CV] ....... C=1, gamma=0.001, score=0.7075471698113207, total=   0.0s\n",
      "[CV] C=1, gamma=0.1 ..................................................\n",
      "[CV] C=1, gamma=0.001 ................................................\n",
      "[CV] ............ C=1, gamma=1, score=0.660377358490566, total=   0.0s\n",
      "[CV] C=1, gamma=0.5 ..................................................\n",
      "[CV] ......... C=1, gamma=0.1, score=0.6698113207547169, total=   0.0s\n",
      "[CV] C=1, gamma=0.01 .................................................\n",
      "[CV] C=10, gamma=1 ...................................................\n",
      "[CV] ....... C=1, gamma=0.001, score=0.6415094339622641, total=   0.0s\n",
      "[CV] C=10, gamma=1 ...................................................\n",
      "[CV] ......... C=1, gamma=0.5, score=0.6574074074074074, total=   0.0s\n",
      "[CV] ........ C=1, gamma=0.01, score=0.7314814814814815, total=   0.0s\n",
      "[CV] ........... C=10, gamma=1, score=0.660377358490566, total=   0.0s\n",
      "[CV] C=1, gamma=0.5 ..................................................\n",
      "[CV] C=1, gamma=0.01 .................................................\n",
      "[CV] C=10, gamma=0.5 .................................................\n",
      "[CV] .......... C=10, gamma=1, score=0.6574074074074074, total=   0.0s\n",
      "[CV] ......... C=1, gamma=0.5, score=0.6698113207547169, total=   0.0s\n",
      "[CV] ........ C=1, gamma=0.01, score=0.7358490566037735, total=   0.0s\n",
      "[CV] ........ C=10, gamma=0.5, score=0.6481481481481481, total=   0.0s\n",
      "[CV] C=10, gamma=1 ...................................................\n",
      "[CV] C=10, gamma=0.5 .................................................\n",
      "[CV] C=10, gamma=0.001 ...............................................\n",
      "[CV] C=10, gamma=0.1 .................................................\n",
      "[CV] .......... C=10, gamma=1, score=0.6698113207547169, total=   0.0s\n",
      "[CV] C=50, gamma=0.5 .................................................\n",
      "[CV] ...... C=10, gamma=0.001, score=0.6792452830188679, total=   0.0s\n",
      "[CV] C=50, gamma=1 ...................................................\n",
      "[CV] ........ C=10, gamma=0.1, score=0.6509433962264151, total=   0.0s\n",
      "[CV] ........ C=50, gamma=0.5, score=0.6415094339622641, total=   0.0s\n",
      "[CV] ........ C=10, gamma=0.5, score=0.6698113207547169, total=   0.0s\n",
      "[CV] C=10, gamma=0.5 .................................................\n",
      "[CV] C=10, gamma=0.01 ................................................\n",
      "[CV] .......... C=50, gamma=1, score=0.6574074074074074, total=   0.0s\n",
      "[CV] C=50, gamma=0.1 .................................................\n",
      "[CV] ..................... C=10, gamma=0.01, score=0.75, total=   0.0s\n",
      "[CV] C=50, gamma=1 ...................................................\n",
      "[CV] ........ C=10, gamma=0.5, score=0.6415094339622641, total=   0.0s\n",
      "[CV] ........ C=50, gamma=0.1, score=0.6574074074074074, total=   0.0s\n",
      "[CV] C=50, gamma=0.1 .................................................\n",
      "[CV] C=10, gamma=0.1 .................................................\n",
      "[CV] C=10, gamma=0.01 ................................................\n",
      "[CV] .......... C=50, gamma=1, score=0.6698113207547169, total=   0.0s\n",
      "[CV] ........ C=50, gamma=0.1, score=0.6698113207547169, total=   0.0s\n",
      "[CV] C=50, gamma=1 ...................................................\n",
      "[CV] ........ C=10, gamma=0.1, score=0.6574074074074074, total=   0.0s\n",
      "[CV] C=10, gamma=0.1 .................................................\n",
      "[CV] ....... C=10, gamma=0.01, score=0.7452830188679245, total=   0.0s\n",
      "[CV] C=10, gamma=0.01 ................................................\n",
      "[CV] C=50, gamma=0.1 .................................................\n",
      "[CV] ........... C=50, gamma=1, score=0.660377358490566, total=   0.0s\n",
      "[CV] ........ C=10, gamma=0.1, score=0.6698113207547169, total=   0.0s\n",
      "[CV] ....... C=10, gamma=0.01, score=0.6981132075471698, total=   0.0s\n",
      "[CV] C=50, gamma=0.01 ................................................\n",
      "[CV] C=50, gamma=0.5 .................................................\n",
      "[CV] ........ C=50, gamma=0.1, score=0.6509433962264151, total=   0.0s\n",
      "[CV] C=50, gamma=0.01 ................................................\n",
      "[CV] ........ C=50, gamma=0.5, score=0.6481481481481481, total=   0.0s\n",
      "[CV] C=10, gamma=0.001 ...............................................\n",
      "[CV] ....... C=50, gamma=0.01, score=0.7407407407407407, total=   0.0s\n",
      "[CV] ....... C=50, gamma=0.01, score=0.6981132075471698, total=   0.0s\n",
      "[CV] C=50, gamma=0.5 .................................................\n",
      "[CV] C=50, gamma=0.001 ...............................................\n",
      "[CV] ...... C=10, gamma=0.001, score=0.7222222222222222, total=   0.0s\n",
      "[CV] C=50, gamma=0.01 ................................................\n",
      "[CV] C=10, gamma=0.001 ...............................................\n",
      "[CV] ...... C=50, gamma=0.001, score=0.7314814814814815, total=   0.0s\n",
      "[CV] ........ C=50, gamma=0.5, score=0.6698113207547169, total=   0.0s\n",
      "[CV] C=100, gamma=1 ..................................................\n"
     ]
    },
    {
     "name": "stdout",
     "output_type": "stream",
     "text": [
      "[CV] ...... C=10, gamma=0.001, score=0.7358490566037735, total=   0.0s\n",
      "[CV] C=50, gamma=0.001 ...............................................\n",
      "[CV] ....... C=50, gamma=0.01, score=0.7264150943396226, total=   0.0s\n",
      "[CV] C=100, gamma=0.1 ................................................\n",
      "[CV] C=100, gamma=0.001 ..............................................\n",
      "[CV] .......... C=100, gamma=1, score=0.660377358490566, total=   0.0s\n",
      "[CV] ...... C=50, gamma=0.001, score=0.7264150943396226, total=   0.0s\n",
      "[CV] ....... C=100, gamma=0.1, score=0.6509433962264151, total=   0.0s\n",
      "[CV] C=100, gamma=0.5 ................................................\n",
      "[CV] ..... C=100, gamma=0.001, score=0.6698113207547169, total=   0.0s\n",
      "[CV] C=100, gamma=0.01 ...............................................\n",
      "[CV] C=50, gamma=0.001 ...............................................\n",
      "[CV] C=500, gamma=1 ..................................................\n",
      "[CV] ...... C=100, gamma=0.01, score=0.7314814814814815, total=   0.0s\n",
      "[CV] ...... C=50, gamma=0.001, score=0.6698113207547169, total=   0.0s\n",
      "[CV] ....... C=100, gamma=0.5, score=0.6481481481481481, total=   0.0s\n",
      "[CV] C=100, gamma=0.5 ................................................\n",
      "[CV] C=100, gamma=1 ..................................................\n",
      "[CV] C=100, gamma=0.01 ...............................................\n",
      "[CV] ......... C=500, gamma=1, score=0.6574074074074074, total=   0.0s\n",
      "[CV] C=500, gamma=1 ..................................................\n",
      "[CV] ....... C=100, gamma=0.5, score=0.6698113207547169, total=   0.0s\n",
      "[CV] C=100, gamma=0.5 ................................................\n",
      "[CV] ......... C=100, gamma=1, score=0.6574074074074074, total=   0.0s\n",
      "[CV] ...... C=100, gamma=0.01, score=0.7264150943396226, total=   0.0s\n",
      "[CV] ......... C=500, gamma=1, score=0.6698113207547169, total=   0.0s\n",
      "[CV] C=100, gamma=1 ..................................................\n",
      "[CV] C=100, gamma=0.01 ...............................................\n",
      "[CV] C=500, gamma=1 ..................................................\n",
      "[CV] ....... C=100, gamma=0.5, score=0.6415094339622641, total=   0.0s\n",
      "[CV] C=100, gamma=0.1 ................................................\n",
      "[CV] ...... C=100, gamma=0.01, score=0.6981132075471698, total=   0.0s\n",
      "[CV] ......... C=100, gamma=1, score=0.6698113207547169, total=   0.0s\n",
      "[CV] C=500, gamma=0.5 ................................................\n",
      "[CV] .......... C=500, gamma=1, score=0.660377358490566, total=   0.0s\n",
      "[CV] C=500, gamma=0.5 ................................................\n",
      "[CV] C=100, gamma=0.001 ..............................................\n",
      "[CV] ....... C=100, gamma=0.1, score=0.6574074074074074, total=   0.0s\n",
      "[CV] ....... C=500, gamma=0.5, score=0.6415094339622641, total=   0.0s\n",
      "[CV] C=500, gamma=0.1 ................................................\n",
      "[CV] ....... C=500, gamma=0.5, score=0.6481481481481481, total=   0.0s\n",
      "[CV] ..... C=100, gamma=0.001, score=0.7314814814814815, total=   0.0s\n",
      "[CV] C=500, gamma=0.5 ................................................\n",
      "[CV] C=100, gamma=0.1 ................................................\n",
      "[CV] ....... C=500, gamma=0.1, score=0.6574074074074074, total=   0.0s\n",
      "[CV] C=500, gamma=0.1 ................................................\n",
      "[CV] ....... C=500, gamma=0.5, score=0.6698113207547169, total=   0.0s\n",
      "[CV] C=100, gamma=0.001 ..............................................\n",
      "[CV] ....... C=500, gamma=0.1, score=0.6698113207547169, total=   0.0s\n",
      "[CV] ....... C=100, gamma=0.1, score=0.6698113207547169, total=   0.0s\n",
      "[CV] C=500, gamma=0.01 ...............................................\n",
      "[CV] ..... C=100, gamma=0.001, score=0.7358490566037735, total=   0.0s\n",
      "[CV] C=500, gamma=0.1 ................................................\n",
      "[CV] ....... C=500, gamma=0.1, score=0.6509433962264151, total=   0.0s\n",
      "[CV] C=500, gamma=0.01 ...............................................\n",
      "[CV] ...... C=500, gamma=0.01, score=0.6981132075471698, total=   0.0s\n",
      "[CV] C=500, gamma=0.001 ..............................................\n",
      "[CV] ...... C=500, gamma=0.01, score=0.7037037037037037, total=   0.0s\n",
      "[CV] C=500, gamma=0.01 ...............................................\n",
      "[CV] ..... C=500, gamma=0.001, score=0.7222222222222222, total=   0.0s\n",
      "[CV] C=500, gamma=0.001 ..............................................\n",
      "[CV] ...... C=500, gamma=0.01, score=0.7169811320754716, total=   0.0s\n",
      "[CV] ..... C=500, gamma=0.001, score=0.7075471698113207, total=   0.0s\n",
      "[CV] C=500, gamma=0.001 ..............................................\n",
      "[CV] ..... C=500, gamma=0.001, score=0.6792452830188679, total=   0.0s\n"
     ]
    },
    {
     "name": "stderr",
     "output_type": "stream",
     "text": [
      "[Parallel(n_jobs=-1)]: Done  90 out of  90 | elapsed:    0.9s finished\n"
     ]
    },
    {
     "data": {
      "text/plain": [
       "GridSearchCV(cv=None, error_score='raise',\n",
       "       estimator=SVC(C=1.0, cache_size=200, class_weight=None, coef0=0.0,\n",
       "  decision_function_shape='ovr', degree=3, gamma='auto', kernel='rbf',\n",
       "  max_iter=-1, probability=False, random_state=None, shrinking=True,\n",
       "  tol=0.001, verbose=False),\n",
       "       fit_params=None, iid=True, n_jobs=-1,\n",
       "       param_grid={'C': [0.1, 1, 10, 50, 100, 500], 'gamma': [1, 0.5, 0.1, 0.01, 0.001]},\n",
       "       pre_dispatch='2*n_jobs', refit=True, return_train_score='warn',\n",
       "       scoring=None, verbose=3)"
      ]
     },
     "execution_count": 52,
     "metadata": {},
     "output_type": "execute_result"
    }
   ],
   "source": [
    "grid.fit(x_train,y_train)"
   ]
  },
  {
   "cell_type": "code",
   "execution_count": 53,
   "metadata": {},
   "outputs": [
    {
     "data": {
      "text/plain": [
       "{'C': 10, 'gamma': 0.01}"
      ]
     },
     "execution_count": 53,
     "metadata": {},
     "output_type": "execute_result"
    }
   ],
   "source": [
    "grid.best_params_"
   ]
  },
  {
   "cell_type": "code",
   "execution_count": 54,
   "metadata": {},
   "outputs": [
    {
     "data": {
      "text/plain": [
       "SVC(C=10, cache_size=200, class_weight=None, coef0=0.0,\n",
       "  decision_function_shape='ovr', degree=3, gamma=1, kernel='rbf',\n",
       "  max_iter=-1, probability=False, random_state=None, shrinking=True,\n",
       "  tol=0.001, verbose=False)"
      ]
     },
     "execution_count": 54,
     "metadata": {},
     "output_type": "execute_result"
    }
   ],
   "source": [
    "model_new=SVC(C=10, gamma=1)\n",
    "model_new.fit(x_train,y_train)"
   ]
  },
  {
   "cell_type": "code",
   "execution_count": 55,
   "metadata": {
    "collapsed": true
   },
   "outputs": [],
   "source": [
    "from sklearn.metrics import accuracy_score"
   ]
  },
  {
   "cell_type": "code",
   "execution_count": 56,
   "metadata": {},
   "outputs": [
    {
     "data": {
      "text/plain": [
       "0.675"
      ]
     },
     "execution_count": 56,
     "metadata": {},
     "output_type": "execute_result"
    }
   ],
   "source": [
    "accuracy_score(y_test,model_new.predict(x_test))"
   ]
  },
  {
   "cell_type": "code",
   "execution_count": 57,
   "metadata": {},
   "outputs": [
    {
     "name": "stdout",
     "output_type": "stream",
     "text": [
      "Enter the Age : 56\n",
      "Enter the Salary : 12000\n",
      "Enter the Gender (0 for Male and 1 for Female) : 1\n",
      "   Age  Salary  Gender_Cat\n",
      "0   56   12000           1\n",
      "[1]\n"
     ]
    }
   ],
   "source": [
    "#Get a new Data and Check Whether the customer purchase or not—0(no) and 1(yes)\n",
    "New_Age=int(input('Enter the Age : '))\n",
    "New_Salary=int(input('Enter the Salary : '))\n",
    "New_Gender=int(input('Enter the Gender (0 for Male and 1 for Female) : '))\n",
    "New_Data=[ [New_Age,New_Salary,New_Gender]]\n",
    "New_Data_User = pd.DataFrame(New_Data,columns=['Age', 'Salary','Gender_Cat'])\n",
    "print(New_Data_User.head())\n",
    "user_classification = svcclassifier.predict(New_Data_User)\n",
    "print(user_classification)\n"
   ]
  },
  {
   "cell_type": "code",
   "execution_count": null,
   "metadata": {},
   "outputs": [],
   "source": [
    "if (user_classification>0):\n",
    "    print(\"The user will not buy Duke\")\n",
    "else:\n",
    "    print(\"The user will  buy Duke\")"
   ]
  },
  {
   "cell_type": "code",
   "execution_count": null,
   "metadata": {
    "collapsed": true
   },
   "outputs": [],
   "source": []
  }
 ],
 "metadata": {
  "kernelspec": {
   "display_name": "Python 3",
   "language": "python",
   "name": "python3"
  },
  "language_info": {
   "codemirror_mode": {
    "name": "ipython",
    "version": 3
   },
   "file_extension": ".py",
   "mimetype": "text/x-python",
   "name": "python",
   "nbconvert_exporter": "python",
   "pygments_lexer": "ipython3",
   "version": "3.8.5"
  }
 },
 "nbformat": 4,
 "nbformat_minor": 2
}
